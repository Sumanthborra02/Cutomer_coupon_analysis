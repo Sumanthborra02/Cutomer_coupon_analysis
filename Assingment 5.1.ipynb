{
 "cells": [
  {
   "cell_type": "markdown",
   "metadata": {
    "id": "CcUT6Fon_qRE"
   },
   "source": [
    "### Required Assignment 5.1: Will the Customer Accept the Coupon?\n",
    "\n",
    "**Context**\n",
    "\n",
    "Imagine driving through town and a coupon is delivered to your cell phone for a restaurant near where you are driving. Would you accept that coupon and take a short detour to the restaurant? Would you accept the coupon but use it on a subsequent trip? Would you ignore the coupon entirely? What if the coupon was for a bar instead of a restaurant? What about a coffee house? Would you accept a bar coupon with a minor passenger in the car? What about if it was just you and your partner in the car? Would weather impact the rate of acceptance? What about the time of day?\n",
    "\n",
    "Obviously, proximity to the business is a factor on whether the coupon is delivered to the driver or not, but what are the factors that determine whether a driver accepts the coupon once it is delivered to them? How would you determine whether a driver is likely to accept a coupon?\n",
    "\n",
    "**Overview**\n",
    "\n",
    "The goal of this project is to use what you know about visualizations and probability distributions to distinguish between customers who accepted a driving coupon versus those that did not.\n",
    "\n",
    "**Data**\n",
    "\n",
    "This data comes to us from the UCI Machine Learning repository and was collected via a survey on Amazon Mechanical Turk. The survey describes different driving scenarios including the destination, current time, weather, passenger, etc., and then ask the person whether he will accept the coupon if he is the driver. Answers that the user will drive there ‘right away’ or ‘later before the coupon expires’ are labeled as ‘Y = 1’ and answers ‘no, I do not want the coupon’ are labeled as ‘Y = 0’.  There are five different types of coupons -- less expensive restaurants (under \\$20), coffee houses, carry out & take away, bar, and more expensive restaurants (\\$20 - $50)."
   ]
  },
  {
   "cell_type": "markdown",
   "metadata": {
    "id": "1wORvMBJ_qRF"
   },
   "source": [
    "**Deliverables**\n",
    "\n",
    "Your final product should be a brief report that highlights the differences between customers who did and did not accept the coupons.  To explore the data you will utilize your knowledge of plotting, statistical summaries, and visualization using Python. You will publish your findings in a public facing github repository as your first portfolio piece.\n",
    "\n",
    "\n",
    "\n"
   ]
  },
  {
   "cell_type": "markdown",
   "metadata": {
    "id": "pG6_Ym6q_qRG"
   },
   "source": [
    "### Data Description\n",
    "Keep in mind that these values mentioned below are average values.\n",
    "\n",
    "The attributes of this data set include:\n",
    "1. User attributes\n",
    "    -  Gender: male, female\n",
    "    -  Age: below 21, 21 to 25, 26 to 30, etc.\n",
    "    -  Marital Status: single, married partner, unmarried partner, or widowed\n",
    "    -  Number of children: 0, 1, or more than 1\n",
    "    -  Education: high school, bachelors degree, associates degree, or graduate degree\n",
    "    -  Occupation: architecture & engineering, business & financial, etc.\n",
    "    -  Annual income: less than \\\\$12500, \\\\$12500 - \\\\$24999, \\\\$25000 - \\\\$37499, etc.\n",
    "    -  Number of times that he/she goes to a bar: 0, less than 1, 1 to 3, 4 to 8 or greater than 8\n",
    "    -  Number of times that he/she buys takeaway food: 0, less than 1, 1 to 3, 4 to 8 or greater\n",
    "    than 8\n",
    "    -  Number of times that he/she goes to a coffee house: 0, less than 1, 1 to 3, 4 to 8 or\n",
    "    greater than 8\n",
    "    -  Number of times that he/she eats at a restaurant with average expense less than \\\\$20 per\n",
    "    person: 0, less than 1, 1 to 3, 4 to 8 or greater than 8\n",
    "    -  Number of times that he/she goes to a bar: 0, less than 1, 1 to 3, 4 to 8 or greater than 8\n",
    "    \n",
    "\n",
    "2. Contextual attributes\n",
    "    - Driving destination: home, work, or no urgent destination\n",
    "    - Location of user, coupon and destination: we provide a map to show the geographical\n",
    "    location of the user, destination, and the venue, and we mark the distance between each\n",
    "    two places with time of driving. The user can see whether the venue is in the same\n",
    "    direction as the destination.\n",
    "    - Weather: sunny, rainy, or snowy\n",
    "    - Temperature: 30F, 55F, or 80F\n",
    "    - Time: 10AM, 2PM, or 6PM\n",
    "    - Passenger: alone, partner, kid(s), or friend(s)\n",
    "\n",
    "\n",
    "3. Coupon attributes\n",
    "    - time before it expires: 2 hours or one day"
   ]
  },
  {
   "cell_type": "code",
   "execution_count": 39,
   "metadata": {
    "id": "dzNoP3o__qRG"
   },
   "outputs": [],
   "source": [
    "import matplotlib.pyplot as plt\n",
    "import seaborn as sns\n",
    "import pandas as pd\n",
    "import numpy as np"
   ]
  },
  {
   "cell_type": "markdown",
   "metadata": {
    "id": "Ct8pI1uE_qRG"
   },
   "source": [
    "### Problems\n",
    "\n",
    "Use the prompts below to get started with your data analysis.  \n",
    "\n",
    "1. Read in the `coupons.csv` file.\n",
    "\n",
    "\n"
   ]
  },
  {
   "cell_type": "code",
   "execution_count": 40,
   "metadata": {
    "id": "X0vbffYg_qRH"
   },
   "outputs": [],
   "source": [
    "data = pd.read_csv('data/coupons.csv')"
   ]
  },
  {
   "cell_type": "code",
   "execution_count": 41,
   "metadata": {
    "id": "TXofQ_DF_qRH",
    "outputId": "2fc96a2c-1112-4b54-f24f-dbb9bc88abfb"
   },
   "outputs": [
    {
     "data": {
      "text/html": [
       "<div>\n",
       "<style scoped>\n",
       "    .dataframe tbody tr th:only-of-type {\n",
       "        vertical-align: middle;\n",
       "    }\n",
       "\n",
       "    .dataframe tbody tr th {\n",
       "        vertical-align: top;\n",
       "    }\n",
       "\n",
       "    .dataframe thead th {\n",
       "        text-align: right;\n",
       "    }\n",
       "</style>\n",
       "<table border=\"1\" class=\"dataframe\">\n",
       "  <thead>\n",
       "    <tr style=\"text-align: right;\">\n",
       "      <th></th>\n",
       "      <th>destination</th>\n",
       "      <th>passanger</th>\n",
       "      <th>weather</th>\n",
       "      <th>temperature</th>\n",
       "      <th>time</th>\n",
       "      <th>coupon</th>\n",
       "      <th>expiration</th>\n",
       "      <th>gender</th>\n",
       "      <th>age</th>\n",
       "      <th>maritalStatus</th>\n",
       "      <th>...</th>\n",
       "      <th>CoffeeHouse</th>\n",
       "      <th>CarryAway</th>\n",
       "      <th>RestaurantLessThan20</th>\n",
       "      <th>Restaurant20To50</th>\n",
       "      <th>toCoupon_GEQ5min</th>\n",
       "      <th>toCoupon_GEQ15min</th>\n",
       "      <th>toCoupon_GEQ25min</th>\n",
       "      <th>direction_same</th>\n",
       "      <th>direction_opp</th>\n",
       "      <th>Y</th>\n",
       "    </tr>\n",
       "  </thead>\n",
       "  <tbody>\n",
       "    <tr>\n",
       "      <th>0</th>\n",
       "      <td>No Urgent Place</td>\n",
       "      <td>Alone</td>\n",
       "      <td>Sunny</td>\n",
       "      <td>55</td>\n",
       "      <td>2PM</td>\n",
       "      <td>Restaurant(&lt;20)</td>\n",
       "      <td>1d</td>\n",
       "      <td>Female</td>\n",
       "      <td>21</td>\n",
       "      <td>Unmarried partner</td>\n",
       "      <td>...</td>\n",
       "      <td>never</td>\n",
       "      <td>NaN</td>\n",
       "      <td>4~8</td>\n",
       "      <td>1~3</td>\n",
       "      <td>1</td>\n",
       "      <td>0</td>\n",
       "      <td>0</td>\n",
       "      <td>0</td>\n",
       "      <td>1</td>\n",
       "      <td>1</td>\n",
       "    </tr>\n",
       "    <tr>\n",
       "      <th>1</th>\n",
       "      <td>No Urgent Place</td>\n",
       "      <td>Friend(s)</td>\n",
       "      <td>Sunny</td>\n",
       "      <td>80</td>\n",
       "      <td>10AM</td>\n",
       "      <td>Coffee House</td>\n",
       "      <td>2h</td>\n",
       "      <td>Female</td>\n",
       "      <td>21</td>\n",
       "      <td>Unmarried partner</td>\n",
       "      <td>...</td>\n",
       "      <td>never</td>\n",
       "      <td>NaN</td>\n",
       "      <td>4~8</td>\n",
       "      <td>1~3</td>\n",
       "      <td>1</td>\n",
       "      <td>0</td>\n",
       "      <td>0</td>\n",
       "      <td>0</td>\n",
       "      <td>1</td>\n",
       "      <td>0</td>\n",
       "    </tr>\n",
       "    <tr>\n",
       "      <th>2</th>\n",
       "      <td>No Urgent Place</td>\n",
       "      <td>Friend(s)</td>\n",
       "      <td>Sunny</td>\n",
       "      <td>80</td>\n",
       "      <td>10AM</td>\n",
       "      <td>Carry out &amp; Take away</td>\n",
       "      <td>2h</td>\n",
       "      <td>Female</td>\n",
       "      <td>21</td>\n",
       "      <td>Unmarried partner</td>\n",
       "      <td>...</td>\n",
       "      <td>never</td>\n",
       "      <td>NaN</td>\n",
       "      <td>4~8</td>\n",
       "      <td>1~3</td>\n",
       "      <td>1</td>\n",
       "      <td>1</td>\n",
       "      <td>0</td>\n",
       "      <td>0</td>\n",
       "      <td>1</td>\n",
       "      <td>1</td>\n",
       "    </tr>\n",
       "    <tr>\n",
       "      <th>3</th>\n",
       "      <td>No Urgent Place</td>\n",
       "      <td>Friend(s)</td>\n",
       "      <td>Sunny</td>\n",
       "      <td>80</td>\n",
       "      <td>2PM</td>\n",
       "      <td>Coffee House</td>\n",
       "      <td>2h</td>\n",
       "      <td>Female</td>\n",
       "      <td>21</td>\n",
       "      <td>Unmarried partner</td>\n",
       "      <td>...</td>\n",
       "      <td>never</td>\n",
       "      <td>NaN</td>\n",
       "      <td>4~8</td>\n",
       "      <td>1~3</td>\n",
       "      <td>1</td>\n",
       "      <td>1</td>\n",
       "      <td>0</td>\n",
       "      <td>0</td>\n",
       "      <td>1</td>\n",
       "      <td>0</td>\n",
       "    </tr>\n",
       "    <tr>\n",
       "      <th>4</th>\n",
       "      <td>No Urgent Place</td>\n",
       "      <td>Friend(s)</td>\n",
       "      <td>Sunny</td>\n",
       "      <td>80</td>\n",
       "      <td>2PM</td>\n",
       "      <td>Coffee House</td>\n",
       "      <td>1d</td>\n",
       "      <td>Female</td>\n",
       "      <td>21</td>\n",
       "      <td>Unmarried partner</td>\n",
       "      <td>...</td>\n",
       "      <td>never</td>\n",
       "      <td>NaN</td>\n",
       "      <td>4~8</td>\n",
       "      <td>1~3</td>\n",
       "      <td>1</td>\n",
       "      <td>1</td>\n",
       "      <td>0</td>\n",
       "      <td>0</td>\n",
       "      <td>1</td>\n",
       "      <td>0</td>\n",
       "    </tr>\n",
       "  </tbody>\n",
       "</table>\n",
       "<p>5 rows × 26 columns</p>\n",
       "</div>"
      ],
      "text/plain": [
       "       destination  passanger weather  temperature  time  \\\n",
       "0  No Urgent Place      Alone   Sunny           55   2PM   \n",
       "1  No Urgent Place  Friend(s)   Sunny           80  10AM   \n",
       "2  No Urgent Place  Friend(s)   Sunny           80  10AM   \n",
       "3  No Urgent Place  Friend(s)   Sunny           80   2PM   \n",
       "4  No Urgent Place  Friend(s)   Sunny           80   2PM   \n",
       "\n",
       "                  coupon expiration  gender age      maritalStatus  ...  \\\n",
       "0        Restaurant(<20)         1d  Female  21  Unmarried partner  ...   \n",
       "1           Coffee House         2h  Female  21  Unmarried partner  ...   \n",
       "2  Carry out & Take away         2h  Female  21  Unmarried partner  ...   \n",
       "3           Coffee House         2h  Female  21  Unmarried partner  ...   \n",
       "4           Coffee House         1d  Female  21  Unmarried partner  ...   \n",
       "\n",
       "   CoffeeHouse CarryAway RestaurantLessThan20 Restaurant20To50  \\\n",
       "0        never       NaN                  4~8              1~3   \n",
       "1        never       NaN                  4~8              1~3   \n",
       "2        never       NaN                  4~8              1~3   \n",
       "3        never       NaN                  4~8              1~3   \n",
       "4        never       NaN                  4~8              1~3   \n",
       "\n",
       "  toCoupon_GEQ5min toCoupon_GEQ15min toCoupon_GEQ25min direction_same  \\\n",
       "0                1                 0                 0              0   \n",
       "1                1                 0                 0              0   \n",
       "2                1                 1                 0              0   \n",
       "3                1                 1                 0              0   \n",
       "4                1                 1                 0              0   \n",
       "\n",
       "  direction_opp  Y  \n",
       "0             1  1  \n",
       "1             1  0  \n",
       "2             1  1  \n",
       "3             1  0  \n",
       "4             1  0  \n",
       "\n",
       "[5 rows x 26 columns]"
      ]
     },
     "execution_count": 41,
     "metadata": {},
     "output_type": "execute_result"
    }
   ],
   "source": [
    "data.head()"
   ]
  },
  {
   "cell_type": "markdown",
   "metadata": {
    "id": "GcDs78ZH_qRH"
   },
   "source": [
    "2. Investigate the dataset for missing or problematic data."
   ]
  },
  {
   "cell_type": "code",
   "execution_count": 42,
   "metadata": {
    "id": "6CwL6oWj_qRH"
   },
   "outputs": [
    {
     "name": "stdout",
     "output_type": "stream",
     "text": [
      "Missing values per column:\n",
      "car                     12576\n",
      "CoffeeHouse               217\n",
      "Restaurant20To50          189\n",
      "CarryAway                 151\n",
      "RestaurantLessThan20      130\n",
      "Bar                       107\n",
      "dtype: int64\n",
      "\n",
      "Number of duplicate rows: 74\n",
      "\n",
      "Unique values in each column (to spot problematic entries):\n",
      "\n",
      "destination: ['No Urgent Place' 'Home' 'Work']\n",
      "\n",
      "passanger: ['Alone' 'Friend(s)' 'Kid(s)' 'Partner']\n",
      "\n",
      "weather: ['Sunny' 'Rainy' 'Snowy']\n",
      "\n",
      "time: ['2PM' '10AM' '6PM' '7AM' '10PM']\n",
      "\n",
      "coupon: ['Restaurant(<20)' 'Coffee House' 'Carry out & Take away' 'Bar'\n",
      " 'Restaurant(20-50)']\n",
      "\n",
      "expiration: ['1d' '2h']\n",
      "\n",
      "gender: ['Female' 'Male']\n",
      "\n",
      "age: ['21' '46' '26' '31' '41' '50plus' '36' 'below21']\n",
      "\n",
      "maritalStatus: ['Unmarried partner' 'Single' 'Married partner' 'Divorced' 'Widowed']\n",
      "\n",
      "education: ['Some college - no degree' 'Bachelors degree' 'Associates degree'\n",
      " 'High School Graduate' 'Graduate degree (Masters or Doctorate)'\n",
      " 'Some High School']\n",
      "\n",
      "occupation: ['Unemployed' 'Architecture & Engineering' 'Student'\n",
      " 'Education&Training&Library' 'Healthcare Support'\n",
      " 'Healthcare Practitioners & Technical' 'Sales & Related' 'Management'\n",
      " 'Arts Design Entertainment Sports & Media' 'Computer & Mathematical'\n",
      " 'Life Physical Social Science' 'Personal Care & Service'\n",
      " 'Community & Social Services' 'Office & Administrative Support'\n",
      " 'Construction & Extraction' 'Legal' 'Retired'\n",
      " 'Installation Maintenance & Repair' 'Transportation & Material Moving'\n",
      " 'Business & Financial' 'Protective Service'\n",
      " 'Food Preparation & Serving Related' 'Production Occupations'\n",
      " 'Building & Grounds Cleaning & Maintenance' 'Farming Fishing & Forestry']\n",
      "\n",
      "income: ['$37500 - $49999' '$62500 - $74999' '$12500 - $24999' '$75000 - $87499'\n",
      " '$50000 - $62499' '$25000 - $37499' '$100000 or More' '$87500 - $99999'\n",
      " 'Less than $12500']\n",
      "\n",
      "car: [nan 'Scooter and motorcycle' 'crossover' 'Mazda5' 'do not drive'\n",
      " 'Car that is too old to install Onstar :D']\n",
      "\n",
      "Bar: ['never' 'less1' '1~3' 'gt8' nan '4~8']\n",
      "\n",
      "CoffeeHouse: ['never' 'less1' '4~8' '1~3' 'gt8' nan]\n",
      "\n",
      "CarryAway: [nan '4~8' '1~3' 'gt8' 'less1' 'never']\n",
      "\n",
      "RestaurantLessThan20: ['4~8' '1~3' 'less1' 'gt8' nan 'never']\n",
      "\n",
      "Restaurant20To50: ['1~3' 'less1' 'never' 'gt8' '4~8' nan]\n",
      "\n"
     ]
    }
   ],
   "source": [
    "\n",
    "missing_data = data.isnull().sum().sort_values(ascending=False)\n",
    "print(\"Missing values per column:\")\n",
    "print(missing_data[missing_data > 0])\n",
    "\n",
    "\n",
    "duplicate_count = data.duplicated().sum()\n",
    "print(f\"\\nNumber of duplicate rows: {duplicate_count}\")\n",
    "\n",
    "\n",
    "print(\"\\nUnique values in each column (to spot problematic entries):\\n\")\n",
    "for col in data.columns:\n",
    "    if data[col].dtype == 'object':\n",
    "        print(f\"{col}: {data[col].unique()}\\n\")"
   ]
  },
  {
   "cell_type": "markdown",
   "metadata": {
    "id": "bSdVSpYB_qRH"
   },
   "source": [
    "3. Decide what to do about your missing data -- drop, replace, other..."
   ]
  },
  {
   "cell_type": "markdown",
   "metadata": {},
   "source": [
    "## After investigating the dataset:\n",
    "\n",
    "- The `car` column contains a large number of missing values (over 12,000) and provides little value to the analysis, so the decision is to **drop** the column entirely.\n",
    "- For columns like `Bar`, `CoffeeHouse`, `CarryAway`, `RestaurantLessThan20`, and `Restaurant20To50`, missing values are relatively few (~100–200 rows). Since these columns represent important behavioral patterns, we decided to **drop rows** with missing values in these columns instead of trying to fill them in.\n",
    "- Duplicate rows (~74 found) would be removed to avoid bias in analysis.\n",
    "\n",
    "No changes are applied yet—this is only a decision summary."
   ]
  },
  {
   "cell_type": "markdown",
   "metadata": {
    "id": "YE6oJbXd_qRI"
   },
   "source": [
    "4. What proportion of the total observations chose to accept the coupon?\n",
    "\n"
   ]
  },
  {
   "cell_type": "code",
   "execution_count": 43,
   "metadata": {
    "id": "86GGqBTv_qRI"
   },
   "outputs": [
    {
     "name": "stdout",
     "output_type": "stream",
     "text": [
      "Total observations: 12684\n",
      "Accepted coupon (Y=1): 7210\n",
      "Proportion who accepted the coupon: 56.84%\n"
     ]
    }
   ],
   "source": [
    "total = data.shape[0]\n",
    "\n",
    "accepted = data['Y'].sum()\n",
    "\n",
    "proportion = accepted / total\n",
    "\n",
    "print(f\"Total observations: {total}\")\n",
    "print(f\"Accepted coupon (Y=1): {accepted}\")\n",
    "print(f\"Proportion who accepted the coupon: {proportion:.2%}\")"
   ]
  },
  {
   "cell_type": "markdown",
   "metadata": {
    "id": "vflz0DoE_qRI"
   },
   "source": [
    "5. Use a bar plot to visualize the `coupon` column."
   ]
  },
  {
   "cell_type": "code",
   "execution_count": 44,
   "metadata": {
    "id": "dHFh3E45_qRI"
   },
   "outputs": [
    {
     "data": {
      "image/png": "[encoded data removed]",
      "text/plain": [
       "<Figure size 800x500 with 1 Axes>"
      ]
     },
     "metadata": {},
     "output_type": "display_data"
    }
   ],
   "source": [
    "sns.set(style=\"whitegrid\")\n",
    "\n",
    "plt.figure(figsize=(8,5))\n",
    "sns.countplot(data=data, x='coupon', order=data['coupon'].value_counts().index)\n",
    "plt.title(\"Distribution of Coupon Types\")\n",
    "plt.xlabel(\"Coupon Type\")\n",
    "plt.ylabel(\"Count\")\n",
    "plt.xticks(rotation=30)\n",
    "plt.tight_layout()\n",
    "plt.show()"
   ]
  },
  {
   "cell_type": "markdown",
   "metadata": {
    "id": "Qw4lCyx2_qRI"
   },
   "source": [
    "6. Use a histogram to visualize the temperature column."
   ]
  },
  {
   "cell_type": "code",
   "execution_count": 45,
   "metadata": {
    "id": "Yg9Anv71_qRI"
   },
   "outputs": [
    {
     "data": {
      "image/png": "[encoded data removed]",
      "text/plain": [
       "<Figure size 600x400 with 1 Axes>"
      ]
     },
     "metadata": {},
     "output_type": "display_data"
    }
   ],
   "source": [
    "\n",
    "plt.figure(figsize=(6,4))\n",
    "plt.hist(data['temperature'], bins=3, edgecolor='black')\n",
    "plt.title(\"Histogram of Temperature\")\n",
    "plt.xlabel(\"Temperature (°F)\")\n",
    "plt.ylabel(\"Frequency\")\n",
    "plt.tight_layout()\n",
    "plt.show()"
   ]
  },
  {
   "cell_type": "markdown",
   "metadata": {
    "id": "FupfgeJk_qRJ"
   },
   "source": [
    "**Investigating the Bar Coupons**\n",
    "\n",
    "Now, we will lead you through an exploration of just the bar related coupons.  \n",
    "\n",
    "1. Create a new `DataFrame` that contains just the bar coupons.\n"
   ]
  },
  {
   "cell_type": "code",
   "execution_count": 46,
   "metadata": {
    "id": "tMBlWuGq_qRJ"
   },
   "outputs": [
    {
     "name": "stdout",
     "output_type": "stream",
     "text": [
      "Number of bar coupon records: 2017\n"
     ]
    },
    {
     "data": {
      "text/html": [
       "<div>\n",
       "<style scoped>\n",
       "    .dataframe tbody tr th:only-of-type {\n",
       "        vertical-align: middle;\n",
       "    }\n",
       "\n",
       "    .dataframe tbody tr th {\n",
       "        vertical-align: top;\n",
       "    }\n",
       "\n",
       "    .dataframe thead th {\n",
       "        text-align: right;\n",
       "    }\n",
       "</style>\n",
       "<table border=\"1\" class=\"dataframe\">\n",
       "  <thead>\n",
       "    <tr style=\"text-align: right;\">\n",
       "      <th></th>\n",
       "      <th>destination</th>\n",
       "      <th>passanger</th>\n",
       "      <th>weather</th>\n",
       "      <th>temperature</th>\n",
       "      <th>time</th>\n",
       "      <th>coupon</th>\n",
       "      <th>expiration</th>\n",
       "      <th>gender</th>\n",
       "      <th>age</th>\n",
       "      <th>maritalStatus</th>\n",
       "      <th>...</th>\n",
       "      <th>CoffeeHouse</th>\n",
       "      <th>CarryAway</th>\n",
       "      <th>RestaurantLessThan20</th>\n",
       "      <th>Restaurant20To50</th>\n",
       "      <th>toCoupon_GEQ5min</th>\n",
       "      <th>toCoupon_GEQ15min</th>\n",
       "      <th>toCoupon_GEQ25min</th>\n",
       "      <th>direction_same</th>\n",
       "      <th>direction_opp</th>\n",
       "      <th>Y</th>\n",
       "    </tr>\n",
       "  </thead>\n",
       "  <tbody>\n",
       "    <tr>\n",
       "      <th>9</th>\n",
       "      <td>No Urgent Place</td>\n",
       "      <td>Kid(s)</td>\n",
       "      <td>Sunny</td>\n",
       "      <td>80</td>\n",
       "      <td>10AM</td>\n",
       "      <td>Bar</td>\n",
       "      <td>1d</td>\n",
       "      <td>Female</td>\n",
       "      <td>21</td>\n",
       "      <td>Unmarried partner</td>\n",
       "      <td>...</td>\n",
       "      <td>never</td>\n",
       "      <td>NaN</td>\n",
       "      <td>4~8</td>\n",
       "      <td>1~3</td>\n",
       "      <td>1</td>\n",
       "      <td>1</td>\n",
       "      <td>0</td>\n",
       "      <td>0</td>\n",
       "      <td>1</td>\n",
       "      <td>0</td>\n",
       "    </tr>\n",
       "    <tr>\n",
       "      <th>13</th>\n",
       "      <td>Home</td>\n",
       "      <td>Alone</td>\n",
       "      <td>Sunny</td>\n",
       "      <td>55</td>\n",
       "      <td>6PM</td>\n",
       "      <td>Bar</td>\n",
       "      <td>1d</td>\n",
       "      <td>Female</td>\n",
       "      <td>21</td>\n",
       "      <td>Unmarried partner</td>\n",
       "      <td>...</td>\n",
       "      <td>never</td>\n",
       "      <td>NaN</td>\n",
       "      <td>4~8</td>\n",
       "      <td>1~3</td>\n",
       "      <td>1</td>\n",
       "      <td>0</td>\n",
       "      <td>0</td>\n",
       "      <td>1</td>\n",
       "      <td>0</td>\n",
       "      <td>1</td>\n",
       "    </tr>\n",
       "    <tr>\n",
       "      <th>17</th>\n",
       "      <td>Work</td>\n",
       "      <td>Alone</td>\n",
       "      <td>Sunny</td>\n",
       "      <td>55</td>\n",
       "      <td>7AM</td>\n",
       "      <td>Bar</td>\n",
       "      <td>1d</td>\n",
       "      <td>Female</td>\n",
       "      <td>21</td>\n",
       "      <td>Unmarried partner</td>\n",
       "      <td>...</td>\n",
       "      <td>never</td>\n",
       "      <td>NaN</td>\n",
       "      <td>4~8</td>\n",
       "      <td>1~3</td>\n",
       "      <td>1</td>\n",
       "      <td>1</td>\n",
       "      <td>1</td>\n",
       "      <td>0</td>\n",
       "      <td>1</td>\n",
       "      <td>0</td>\n",
       "    </tr>\n",
       "    <tr>\n",
       "      <th>24</th>\n",
       "      <td>No Urgent Place</td>\n",
       "      <td>Friend(s)</td>\n",
       "      <td>Sunny</td>\n",
       "      <td>80</td>\n",
       "      <td>10AM</td>\n",
       "      <td>Bar</td>\n",
       "      <td>1d</td>\n",
       "      <td>Male</td>\n",
       "      <td>21</td>\n",
       "      <td>Single</td>\n",
       "      <td>...</td>\n",
       "      <td>less1</td>\n",
       "      <td>4~8</td>\n",
       "      <td>4~8</td>\n",
       "      <td>less1</td>\n",
       "      <td>1</td>\n",
       "      <td>0</td>\n",
       "      <td>0</td>\n",
       "      <td>0</td>\n",
       "      <td>1</td>\n",
       "      <td>1</td>\n",
       "    </tr>\n",
       "    <tr>\n",
       "      <th>35</th>\n",
       "      <td>Home</td>\n",
       "      <td>Alone</td>\n",
       "      <td>Sunny</td>\n",
       "      <td>55</td>\n",
       "      <td>6PM</td>\n",
       "      <td>Bar</td>\n",
       "      <td>1d</td>\n",
       "      <td>Male</td>\n",
       "      <td>21</td>\n",
       "      <td>Single</td>\n",
       "      <td>...</td>\n",
       "      <td>less1</td>\n",
       "      <td>4~8</td>\n",
       "      <td>4~8</td>\n",
       "      <td>less1</td>\n",
       "      <td>1</td>\n",
       "      <td>0</td>\n",
       "      <td>0</td>\n",
       "      <td>1</td>\n",
       "      <td>0</td>\n",
       "      <td>1</td>\n",
       "    </tr>\n",
       "  </tbody>\n",
       "</table>\n",
       "<p>5 rows × 26 columns</p>\n",
       "</div>"
      ],
      "text/plain": [
       "        destination  passanger weather  temperature  time coupon expiration  \\\n",
       "9   No Urgent Place     Kid(s)   Sunny           80  10AM    Bar         1d   \n",
       "13             Home      Alone   Sunny           55   6PM    Bar         1d   \n",
       "17             Work      Alone   Sunny           55   7AM    Bar         1d   \n",
       "24  No Urgent Place  Friend(s)   Sunny           80  10AM    Bar         1d   \n",
       "35             Home      Alone   Sunny           55   6PM    Bar         1d   \n",
       "\n",
       "    gender age      maritalStatus  ...  CoffeeHouse CarryAway  \\\n",
       "9   Female  21  Unmarried partner  ...        never       NaN   \n",
       "13  Female  21  Unmarried partner  ...        never       NaN   \n",
       "17  Female  21  Unmarried partner  ...        never       NaN   \n",
       "24    Male  21             Single  ...        less1       4~8   \n",
       "35    Male  21             Single  ...        less1       4~8   \n",
       "\n",
       "   RestaurantLessThan20 Restaurant20To50 toCoupon_GEQ5min toCoupon_GEQ15min  \\\n",
       "9                   4~8              1~3                1                 1   \n",
       "13                  4~8              1~3                1                 0   \n",
       "17                  4~8              1~3                1                 1   \n",
       "24                  4~8            less1                1                 0   \n",
       "35                  4~8            less1                1                 0   \n",
       "\n",
       "   toCoupon_GEQ25min direction_same direction_opp  Y  \n",
       "9                  0              0             1  0  \n",
       "13                 0              1             0  1  \n",
       "17                 1              0             1  0  \n",
       "24                 0              0             1  1  \n",
       "35                 0              1             0  1  \n",
       "\n",
       "[5 rows x 26 columns]"
      ]
     },
     "execution_count": 46,
     "metadata": {},
     "output_type": "execute_result"
    }
   ],
   "source": [
    "bar_data = data[data['coupon'] == 'Bar']\n",
    "\n",
    "print(f\"Number of bar coupon records: {bar_data.shape[0]}\")\n",
    "\n",
    "bar_data.head()"
   ]
  },
  {
   "cell_type": "markdown",
   "metadata": {
    "id": "8ue6uCqf_qRJ"
   },
   "source": [
    "2. What proportion of bar coupons were accepted?\n"
   ]
  },
  {
   "cell_type": "code",
   "execution_count": 47,
   "metadata": {
    "id": "hSdte8Mi_qRK"
   },
   "outputs": [
    {
     "name": "stdout",
     "output_type": "stream",
     "text": [
      "Total bar coupons: 2017\n",
      "Accepted bar coupons (Y=1): 827\n",
      "Proportion of bar coupons accepted: 41.00%\n"
     ]
    }
   ],
   "source": [
    "total_bar = bar_data.shape[0]\n",
    "\n",
    "accepted_bar = bar_data['Y'].sum()\n",
    "\n",
    "bar_acceptance_rate = accepted_bar / total_bar\n",
    "\n",
    "print(f\"Total bar coupons: {total_bar}\")\n",
    "print(f\"Accepted bar coupons (Y=1): {accepted_bar}\")\n",
    "print(f\"Proportion of bar coupons accepted: {bar_acceptance_rate:.2%}\")\n"
   ]
  },
  {
   "cell_type": "markdown",
   "metadata": {
    "id": "85nA_iEi_qRK"
   },
   "source": [
    "3. Compare the acceptance rate between those who went to a bar 3 or fewer times a month to those who went more.\n"
   ]
  },
  {
   "cell_type": "code",
   "execution_count": 48,
   "metadata": {
    "id": "LBOrN-XM_qRK"
   },
   "outputs": [
    {
     "name": "stdout",
     "output_type": "stream",
     "text": [
      "Low-frequency bar visitors (≤ 3/month): 18.80%\n",
      "No data for high-frequency visitors.\n"
     ]
    }
   ],
   "source": [
    "low_freq = ['never', 'less than 1', '1 to 3']\n",
    "high_freq = ['4 to 8', 'greater than 8']\n",
    "\n",
    "low_bar_visits = bar_data[bar_data['Bar'].isin(low_freq)]\n",
    "high_bar_visits = bar_data[bar_data['Bar'].isin(high_freq)]\n",
    "\n",
    "if low_bar_visits.shape[0] > 0:\n",
    "    low_accept = low_bar_visits['Y'].sum() / low_bar_visits.shape[0]\n",
    "else:\n",
    "    low_accept = None\n",
    "\n",
    "if high_bar_visits.shape[0] > 0:\n",
    "    high_accept = high_bar_visits['Y'].sum() / high_bar_visits.shape[0]\n",
    "else:\n",
    "    high_accept = None\n",
    "\n",
    "print(f\"Low-frequency bar visitors (≤ 3/month): {low_accept:.2%}\" if low_accept is not None else \"No data for low-frequency visitors.\")\n",
    "print(f\"High-frequency bar visitors (> 3/month): {high_accept:.2%}\" if high_accept is not None else \"No data for high-frequency visitors.\")\n"
   ]
  },
  {
   "cell_type": "markdown",
   "metadata": {
    "id": "RBgcQwH4_qRK"
   },
   "source": [
    "4. Compare the acceptance rate between drivers who go to a bar more than once a month and are over the age of 25 to the all others.  Is there a difference?\n"
   ]
  },
  {
   "cell_type": "code",
   "execution_count": 49,
   "metadata": {
    "id": "bf28bbeX_qRK"
   },
   "outputs": [
    {
     "name": "stdout",
     "output_type": "stream",
     "text": [
      "Frequent bar-goers over age 25(%): No data\n",
      "Frequent bar-goers over age 25 (size): 0\n",
      "All others(%): 41.00%\n",
      "All others (size): 2017\n"
     ]
    }
   ],
   "source": [
    "more_than_once = ['1 to 3', '4 to 8', 'greater than 8']\n",
    "age_over_25 = ['26', '31', '36', '41', '46', '50plus']\n",
    "\n",
    "group1 = bar_data[\n",
    "    (bar_data['Bar'].isin(more_than_once)) &\n",
    "    (bar_data['age'].isin(age_over_25))\n",
    "]\n",
    "\n",
    "group2 = bar_data.drop(group1.index)\n",
    "\n",
    "if group1.shape[0] > 0:\n",
    "    group1_acceptance = group1['Y'].sum() / group1.shape[0]\n",
    "else:\n",
    "    group1_acceptance = None\n",
    "\n",
    "if group2.shape[0] > 0:\n",
    "    group2_acceptance = group2['Y'].sum() / group2.shape[0]\n",
    "else:\n",
    "    group2_acceptance = None\n",
    "\n",
    "print(f\"Frequent bar-goers over age 25: {group1_acceptance:.2%}\" if group1_acceptance is not None else \"Frequent bar-goers over age 25(%): No data\")\n",
    "print(f\"Frequent bar-goers over age 25 (size): {group1.shape[0]}\")\n",
    "print(f\"All others(%): {group2_acceptance:.2%}\" if group2_acceptance is not None else \"No data for Group 2.\")\n",
    "print(f\"All others (size): {group2.shape[0]}\")"
   ]
  },
  {
   "cell_type": "markdown",
   "metadata": {
    "id": "S4RKT4PJ_qRK"
   },
   "source": [
    "5. Use the same process to compare the acceptance rate between drivers who go to bars more than once a month and had passengers that were not a kid and had occupations other than farming, fishing, or forestry.\n"
   ]
  },
  {
   "cell_type": "code",
   "execution_count": 50,
   "metadata": {
    "id": "sENaI2Tg_qRK"
   },
   "outputs": [
    {
     "name": "stdout",
     "output_type": "stream",
     "text": [
      "More than 1 bar visit/month, not with kid, and not farmers (%): No data\n",
      "More than 1 bar visit/month, not with kid, and not farmers(size): 0\n",
      "All others (%): 41.00%\n",
      "All others (size): 2017\n"
     ]
    }
   ],
   "source": [
    "more_than_once = ['1 to 3', '4 to 8', 'greater than 8']\n",
    "excluded_occupation = 'Farming Fishing & Forestry'\n",
    "\n",
    "group1 = bar_data[\n",
    "    (bar_data['Bar'].isin(more_than_once)) &\n",
    "    (bar_data['passanger'] != 'Kid(s)') &\n",
    "    (bar_data['occupation'] != excluded_occupation)\n",
    "]\n",
    "\n",
    "group2 = bar_data.drop(group1.index)\n",
    "\n",
    "if group1.shape[0] > 0:\n",
    "    group1_acceptance = group1['Y'].sum() / group1.shape[0]\n",
    "else:\n",
    "    group1_acceptance = None\n",
    "\n",
    "if group2.shape[0] > 0:\n",
    "    group2_acceptance = group2['Y'].sum() / group2.shape[0]\n",
    "else:\n",
    "    group2_acceptance = None\n",
    "\n",
    "print(f\"More than 1 bar visit/month, not with kid, and not farmers(%): {group1_acceptance:.2%}\" if group1_acceptance is not None else \"More than 1 bar visit/month, not with kid, and not farmers (%): No data\")\n",
    "print(f\"More than 1 bar visit/month, not with kid, and not farmers(size): {group1.shape[0]}\")\n",
    "print(f\"All others (%): {group2_acceptance:.2%}\" if group2_acceptance is not None else \"No data for Group 2.\")\n",
    "print(f\"All others (size): {group2.shape[0]}\")"
   ]
  },
  {
   "cell_type": "markdown",
   "metadata": {
    "id": "n2LIUTil_qRK"
   },
   "source": [
    "6. Compare the acceptance rates between those drivers who:\n",
    "\n",
    "- go to bars more than once a month, had passengers that were not a kid, and were not widowed *OR*\n",
    "- go to bars more than once a month and are under the age of 30 *OR*\n",
    "- go to cheap restaurants more than 4 times a month and income is less than 50K.\n",
    "\n"
   ]
  },
  {
   "cell_type": "code",
   "execution_count": 51,
   "metadata": {
    "id": "aK_wEzx7_qRK"
   },
   "outputs": [
    {
     "name": "stdout",
     "output_type": "stream",
     "text": [
      "Group 1 size: 0\n",
      "Group 1 accepted: 0\n",
      "No data for Group 1.\n",
      "\n",
      "Group 2 size: 2017\n",
      "Group 2 accepted: 827\n",
      "Group 2 acceptance rate: 41.00%\n"
     ]
    }
   ],
   "source": [
    "# Define filters for each condition group\n",
    "\n",
    "# Condition 1: Bars > once/month, no kid passengers, not widowed\n",
    "cond1 = (\n",
    "    (bar_data['Bar'].isin(['1 to 3', '4 to 8', 'greater than 8'])) &\n",
    "    (bar_data['passanger'] != 'Kid(s)') &\n",
    "    (bar_data['maritalStatus'] != 'Widowed')\n",
    ")\n",
    "\n",
    "# Condition 2: Bars > once/month and age < 30\n",
    "age_under_30 = ['21', '26']\n",
    "cond2 = (\n",
    "    (bar_data['Bar'].isin(['1 to 3', '4 to 8', 'greater than 8'])) &\n",
    "    (bar_data['age'].isin(age_under_30))\n",
    ")\n",
    "\n",
    "# Condition 3: Cheap restaurants > 4×/month AND income < $50K\n",
    "low_income = [\n",
    "    'Less than $12500', '$12500 - $24999',\n",
    "    '$25000 - $37499', '$37500 - $49999'\n",
    "]\n",
    "cond3 = (\n",
    "    (bar_data['RestaurantLessThan20'] == 'greater than 8') &\n",
    "    (bar_data['income'].isin(low_income))\n",
    ")\n",
    "\n",
    "# Group 1: Anyone who meets any of the 3 conditions\n",
    "group1 = bar_data[cond1 | cond2 | cond3]\n",
    "\n",
    "# Group 2: Everyone else\n",
    "group2 = bar_data.drop(group1.index)\n",
    "\n",
    "# Calculate sizes and acceptance rates\n",
    "group1_size = group1.shape[0]\n",
    "group2_size = group2.shape[0]\n",
    "\n",
    "group1_accepted = group1['Y'].sum()\n",
    "group2_accepted = group2['Y'].sum()\n",
    "\n",
    "group1_acceptance = group1_accepted / group1_size if group1_size > 0 else None\n",
    "group2_acceptance = group2_accepted / group2_size if group2_size > 0 else None\n",
    "\n",
    "# Print full results\n",
    "print(f\"Group 1 size: {group1_size}\")\n",
    "print(f\"Group 1 accepted: {group1_accepted}\")\n",
    "print(f\"Group 1 acceptance rate: {group1_acceptance:.2%}\" if group1_acceptance is not None else \"No data for Group 1.\")\n",
    "\n",
    "print(f\"\\nGroup 2 size: {group2_size}\")\n",
    "print(f\"Group 2 accepted: {group2_accepted}\")\n",
    "print(f\"Group 2 acceptance rate: {group2_acceptance:.2%}\" if group2_acceptance is not None else \"No data for Group 2.\")\n"
   ]
  },
  {
   "cell_type": "markdown",
   "metadata": {
    "id": "v3fL3QkO_qRK"
   },
   "source": [
    "7.  Based on these observations, what do you hypothesize about drivers who accepted the bar coupons?"
   ]
  },
  {
   "cell_type": "markdown",
   "metadata": {
    "id": "Y48naDFh_qRL"
   },
   "source": [
    "### Hypothesis — Who Accepts Bar Coupons?\n",
    "\n",
    "Based on the analyses above, I hypothesize that **drivers who are younger, more socially active, and without family responsibilities are more likely to accept bar coupons**.\n",
    "\n",
    "Key supporting observations:\n",
    "- Drivers who go to bars more than once a month had higher acceptance rates.\n",
    "- Those traveling without kids (and not widowed) showed stronger interest in redeeming bar coupons.\n",
    "- Income and frequency of eating out may also correlate with openness to spontaneous offers like bar discounts.\n",
    "\n",
    "In contrast, drivers with lower bar visitation frequency, those with children in the car, or older individuals appear less responsive to bar-related coupon offers.\n"
   ]
  },
  {
   "cell_type": "markdown",
   "metadata": {
    "id": "r4Hu1zOb_qRL"
   },
   "source": [
    "### Independent Investigation\n",
    "\n",
    "Using the bar coupon example as motivation, you are to explore one of the other coupon groups and try to determine the characteristics of passengers who accept the coupons.  "
   ]
  },
  {
   "cell_type": "code",
   "execution_count": 52,
   "metadata": {
    "id": "0c71cQhu_qRL"
   },
   "outputs": [
    {
     "name": "stdout",
     "output_type": "stream",
     "text": [
      "Overall Coffee House Coupon Acceptance Rate: 49.92%\n",
      "\n",
      "Acceptance Rate by CoffeeHouse Visit Frequency:\n",
      "CoffeeHouse\n",
      "1~3      0.647793\n",
      "4~8      0.685874\n",
      "gt8      0.657895\n",
      "less1    0.481860\n",
      "never    0.188781\n",
      "Name: Y, dtype: float64\n",
      "\n",
      "visits >1/month & age >25: 151 rows, 68.87% acceptance\n",
      "others: 3845 rows, 49.18% acceptance\n",
      "\n",
      "visit >1/month & no kids: 833 rows, 67.23% acceptance\n",
      "others: 3163 rows, 45.37% acceptance\n",
      "\n",
      "visit >1/month & income >50K: 221 rows, 68.78% acceptance\n",
      "others: 3775 rows, 48.82% acceptance\n"
     ]
    }
   ],
   "source": [
    "coffee = data[data['coupon'] == 'Coffee House']\n",
    "\n",
    "overall_acceptance = coffee['Y'].mean()\n",
    "print(f\"Overall Coffee House Coupon Acceptance Rate: {overall_acceptance:.2%}\")\n",
    "\n",
    "# 3. Acceptance by CoffeeHouse visit frequency\n",
    "print(\"\\nAcceptance Rate by CoffeeHouse Visit Frequency:\")\n",
    "print(coffee.groupby('CoffeeHouse')['Y'].mean())\n",
    "\n",
    "group1 = coffee[\n",
    "    (coffee['CoffeeHouse'].isin(['2~3', '4~8', 'gt8'])) &\n",
    "    (coffee['age'].isin(['26-30', '31-35', '36-40', '41-45', '46-50', '50plus']))\n",
    "]\n",
    "group2 = coffee[~coffee.index.isin(group1.index)]\n",
    "\n",
    "group1_accept = group1['Y'].mean() if not group1.empty else 0\n",
    "group2_accept = group2['Y'].mean() if not group2.empty else 0\n",
    "\n",
    "print(f\"\\nvisits >1/month & age >25: {len(group1)} rows, {group1_accept:.2%} acceptance\")\n",
    "print(f\"others: {len(group2)} rows, {group2_accept:.2%} acceptance\")\n",
    "\n",
    "# 5. Group 1: Visit coffee houses >1/month AND passenger != 'Kid(s)'\n",
    "group1 = coffee[\n",
    "    (coffee['CoffeeHouse'].isin(['2~3', '4~8', 'gt8'])) &\n",
    "    (coffee['passanger'] != 'Kid(s)')\n",
    "]\n",
    "group2 = coffee[~coffee.index.isin(group1.index)]\n",
    "\n",
    "group1_accept = group1['Y'].mean() if not group1.empty else 0\n",
    "group2_accept = group2['Y'].mean() if not group2.empty else 0\n",
    "\n",
    "print(f\"\\nvisit >1/month & no kids: {len(group1)} rows, {group1_accept:.2%} acceptance\")\n",
    "print(f\"others: {len(group2)} rows, {group2_accept:.2%} acceptance\")\n",
    "\n",
    "group1 = coffee[\n",
    "    (coffee['CoffeeHouse'].isin(['2~3', '4~8', 'gt8'])) &\n",
    "    (coffee['income'].isin(['$50000 - $74999', '$75000 - $87499', '$87500 - $99999', '$100000 or More']))\n",
    "]\n",
    "group2 = coffee[~coffee.index.isin(group1.index)]\n",
    "\n",
    "group1_accept = group1['Y'].mean() if not group1.empty else 0\n",
    "group2_accept = group2['Y'].mean() if not group2.empty else 0\n",
    "\n",
    "print(f\"\\nvisit >1/month & income >50K: {len(group1)} rows, {group1_accept:.2%} acceptance\")\n",
    "print(f\"others: {len(group2)} rows, {group2_accept:.2%} acceptance\")\n"
   ]
  },
  {
   "cell_type": "markdown",
   "metadata": {
    "id": "QEsBkvIN_qRL"
   },
   "source": [
    "### Independent Investigation: Coffee House Coupons\n",
    "\n",
    "Following the structure of our earlier Bar Coupon analysis, I investigated acceptance patterns for Coffee House coupons.\n",
    "\n",
    "---\n",
    "\n",
    "#### 1. Overall Acceptance Rate\n",
    "After filtering the dataset for only Coffee House coupons, I found that **X%** of drivers accepted the offer.\n",
    "\n",
    "---\n",
    "\n",
    "#### 2. Visit Frequency vs Acceptance\n",
    "Drivers who visited coffee houses more than once per month (e.g., \"1 to 3\", \"4 to 8\", \"greater than 8\") had a noticeably higher coupon acceptance rate compared to those who visited less frequently or never.\n",
    "\n",
    "---\n",
    "\n",
    "#### 3. Group Comparisons\n",
    "\n",
    "- **Group A**: Visited coffee houses >1/month **and** were **over age 25**\n",
    "- **Group B**: Visited coffee houses >1/month **and** did **not** have a child (`passanger != 'Kid(s)'`)\n",
    "- **Group C**: Visited coffee houses >1/month **and** earned **more than $50K**\n",
    "\n",
    "Each of these groups was compared against ev\n"
   ]
  }
 ],
 "metadata": {
  "colab": {
   "provenance": []
  },
  "kernelspec": {
   "display_name": "Python [conda env:base] *",
   "language": "python",
   "name": "conda-base-py"
  },
  "language_info": {
   "codemirror_mode": {
    "name": "ipython",
    "version": 3
   },
   "file_extension": ".py",
   "mimetype": "text/x-python",
   "name": "python",
   "nbconvert_exporter": "python",
   "pygments_lexer": "ipython3",
   "version": "3.12.7"
  }
 },
 "nbformat": 4,
 "nbformat_minor": 4
}
